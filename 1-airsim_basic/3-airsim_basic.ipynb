{
 "cells": [
  {
   "cell_type": "markdown",
   "id": "7c82aa60-064e-4a7b-88da-c69f679f4532",
   "metadata": {},
   "source": [
    "# 1.3 AirSim 无人机基本控制"
   ]
  },
  {
   "cell_type": "markdown",
   "id": "571ca62f-fe4a-4c4a-b927-e862a8a4fff2",
   "metadata": {},
   "source": [
    "AirSim SDK（软件开发工具包）为无人机仿真提供了丰富的编程接口，支持通过代码实现无人机的基本控制、传感器数据获取及环境交互。以下是其核心功能的简要描述：\n",
    "\n",
    "### 1. **连接与初始化控制**\n",
    "   - **模拟器连接**：通过`MultirotorClient`类建立与AirSim模拟器的连接，确认通信状态后接管控制权。\n",
    "   - **解锁与启动**：使用`enableApiControl(True)`和`armDisarm(True)`方法解锁无人机，使其进入可操作状态。\n",
    "\n",
    "### 2. **基本飞行控制**\n",
    "   - **起飞与悬停**：通过`takeoffAsync().join()`实现起飞，`hoverAsync().join()`保持悬停。\n",
    "   - **路径规划**：调用`moveToPositionAsync(x, y, z, speed)`控制无人机向指定坐标移动，支持速度参数调整。\n",
    "   - **返航与复位**：使用`reset()`方法重置无人机位置，`goHomeAsync()`可返回初始点。\n",
    "\n",
    "### 3. **传感器与状态获取**\n",
    "   - **传感器数据**：通过API获取IMU、GPS、气压计等传感器的实时数据（如`getImuData()`、`getGpsData()`）。\n",
    "   - **状态监控**：`getMultirotorState()`返回无人机的实时位置、速度、姿态等状态信息。\n",
    "\n",
    "### 4. **高级功能扩展**\n",
    "   - **多机协同**：通过配置文件定义多台无人机，并在代码中按名称分别控制。\n",
    "   - **环境交互**：支持动态调整天气（如雨雪效果）、光照条件，或通过API控制场景中的物体属性。\n",
    "   - **ROS集成**：提供ROS/ROS2接口，便于与机器人操作系统联动，扩展复杂任务。\n",
    "\n",
    "### 5. **SDK设计特点**\n",
    "   - **跨平台支持**：兼容Python、C++、C#等语言，适用于Windows、Linux、macOS系统。\n",
    "   - **模块化架构**：基于RPC通信（如msgpack-rpc），实现仿真引擎与外部控制逻辑的解耦。\n",
    "   - **物理与视觉仿真融合**：结合虚幻引擎的渲染能力和自定义物理模型，提供高逼真度的仿真环境。\n",
    "\n",
    "通过上述接口，开发者可快速构建无人机控制算法测试平台，同时结合AirSim的逼真场景和传感器模拟，验证视觉导航、自主避障等复杂功能。\n",
    "\n",
    "本节主要讲airsim的初始化和基本飞行控制"
   ]
  },
  {
   "cell_type": "code",
   "execution_count": 1,
   "id": "fe046001-137f-4291-964f-ffa80580b780",
   "metadata": {},
   "outputs": [
    {
     "name": "stdout",
     "output_type": "stream",
     "text": [
      "Collecting numpy\n",
      "  Downloading numpy-2.2.3-cp310-cp310-win_amd64.whl.metadata (60 kB)\n",
      "Downloading numpy-2.2.3-cp310-cp310-win_amd64.whl (12.9 MB)\n",
      "   ---------------------------------------- 0.0/12.9 MB ? eta -:--:--\n",
      "   --- ------------------------------------ 1.0/12.9 MB 8.4 MB/s eta 0:00:02\n",
      "   --------------------------------- ------ 10.7/12.9 MB 33.5 MB/s eta 0:00:01\n",
      "   ---------------------------------------- 12.9/12.9 MB 33.8 MB/s eta 0:00:00\n",
      "Installing collected packages: numpy\n",
      "Successfully installed numpy-2.2.3\n"
     ]
    }
   ],
   "source": [
    "!pip install numpy"
   ]
  },
  {
   "cell_type": "code",
   "execution_count": 2,
   "id": "d1c5affa-c966-476a-a03c-fb46678378e7",
   "metadata": {},
   "outputs": [],
   "source": [
    "import sys\n",
    "sys.path.append('../external-libraries')\n",
    "import airsim\n",
    "import math\n",
    "import numpy as np"
   ]
  },
  {
   "cell_type": "markdown",
   "id": "789685ff-c280-4d2f-a3af-af0a8078988c",
   "metadata": {},
   "source": [
    "## 起飞降落"
   ]
  },
  {
   "cell_type": "code",
   "execution_count": 3,
   "id": "4b6c7eda-393a-4b71-a8e6-1f361d9f5431",
   "metadata": {},
   "outputs": [
    {
     "name": "stdout",
     "output_type": "stream",
     "text": [
      "Connected!\n",
      "Client Ver:1 (Min Req: 1), Server Ver:1 (Min Req: 1)\n",
      "\n"
     ]
    },
    {
     "data": {
      "text/plain": [
       "True"
      ]
     },
     "execution_count": 3,
     "metadata": {},
     "output_type": "execute_result"
    }
   ],
   "source": [
    "# connect to the AirSim simulator\n",
    "#client = airsim.MultirotorClient(ip=\"192.168.31.194\") #ip不写就是本地，写了就是跑airsim的机器\n",
    "client = airsim.MultirotorClient() #ip不写就是本地，写了就是跑airsim的机器\n",
    "client.confirmConnection()\n",
    "\n",
    "# get control,允许api控制，默认是不允许的\n",
    "client.enableApiControl(True)\n",
    "\n",
    "# unlock，解锁，流程和真实飞行器一样\n",
    "client.armDisarm(True)"
   ]
  },
  {
   "cell_type": "code",
   "execution_count": 4,
   "id": "31224c18-6151-428c-ac57-35864ebae5c7",
   "metadata": {},
   "outputs": [
    {
     "name": "stdout",
     "output_type": "stream",
     "text": [
      "起飞-------------------------\n"
     ]
    }
   ],
   "source": [
    "# takeoff，起飞，很多无人机或者汽车控制的函数都有 Async/异步作为后缀，执行的时候会立即返回，不阻塞\n",
    "# 但命令本身还是顺序执行的，所以需要join等待命令执行完毕，上一个命令执行完成，才会执行下一个命令\n",
    "# 也可以不join，直接执行下一个命令，但是这样的话，就不知道上一个命令是否执行完成了，需要自己控制\n",
    "client.takeoffAsync().join()\n",
    "print(\"起飞-------------------------\")"
   ]
  },
  {
   "cell_type": "code",
   "execution_count": 5,
   "id": "e0d4f9ab-96d7-4421-b320-6a06a53d0135",
   "metadata": {},
   "outputs": [
    {
     "name": "stdout",
     "output_type": "stream",
     "text": [
      "降落-------------------------\n"
     ]
    }
   ],
   "source": [
    "#降落\n",
    "client.landAsync().join()\n",
    "print(\"降落-------------------------\")\n",
    "\n",
    "\n",
    "\n",
    "# lock\n",
    "client.armDisarm(False)\n",
    "\n",
    "# release control\n",
    "client.enableApiControl(False)"
   ]
  },
  {
   "cell_type": "markdown",
   "id": "70fc0afb-b09c-4fdd-9b3e-8eb9eb29b49a",
   "metadata": {},
   "source": [
    "## 定点飞行-offboard"
   ]
  },
  {
   "cell_type": "code",
   "execution_count": 9,
   "id": "f4218c64-0bf9-410e-a671-2fdbcef24013",
   "metadata": {},
   "outputs": [
    {
     "name": "stdout",
     "output_type": "stream",
     "text": [
      "Connected!\n",
      "Client Ver:1 (Min Req: 1), Server Ver:1 (Min Req: 1)\n",
      "\n",
      "起飞--------------------------------\n"
     ]
    }
   ],
   "source": [
    "# connect to the AirSim simulator\n",
    "client = airsim.MultirotorClient()\n",
    "client.confirmConnection()\n",
    "\n",
    "# get control,允许api控制，默认是不允许的\n",
    "client.enableApiControl(True)\n",
    "\n",
    "# unlock，解锁，流程和真实飞行器一样\n",
    "client.armDisarm(True)\n",
    "\n",
    "\n",
    "# takeoff，起飞，很多无人机或者汽车控制的函数都有 Async/异步作为后缀，执行的时候会立即返回，不阻塞\n",
    "# 但命令本身还是顺序执行的，所以需要join等待命令执行完毕，上一个命令执行完成，才会执行下一个命令\n",
    "# 也可以不join，直接执行下一个命令，但是这样的话，就不知道上一个命令是否执行完成了，需要自己控制\n",
    "client.takeoffAsync().join()\n",
    "print(\"起飞--------------------------------\")"
   ]
  },
  {
   "cell_type": "code",
   "execution_count": 10,
   "id": "38835ee7-b19d-4657-a717-1808b46d7f53",
   "metadata": {},
   "outputs": [],
   "source": [
    "#moveToZAsync，坐标系是NED，所以正数是向上，负数是向下\n",
    "client.moveToZAsync(-3, 1).join()   # 上升到3米高度，1是速度"
   ]
  },
  {
   "cell_type": "code",
   "execution_count": 11,
   "id": "7d1a9ecb-e9fc-4c0c-9700-69e61e20acdb",
   "metadata": {},
   "outputs": [],
   "source": [
    "# 初始化4个点的坐标，并在视口中标识出来\n",
    "points = [airsim.Vector3r(5, 0, -3),\n",
    "          airsim.Vector3r(5, 5, -3),\n",
    "          airsim.Vector3r(0, 5, -3),\n",
    "          airsim.Vector3r(0, 0, -3)]\n",
    "client.simPlotPoints(points, color_rgba=[0, 1, 0, 1], size=30, is_persistent=True)"
   ]
  },
  {
   "cell_type": "code",
   "execution_count": 12,
   "id": "c0cbf762-6563-416c-87d8-addd97f6a1b0",
   "metadata": {},
   "outputs": [],
   "source": [
    "# 方法1：按照逐个点飞，形成正方形\n",
    "client.moveToPositionAsync(5, 0, -3, 1).join()  # 移动到(5,0,-3)的位置，1是速度x, y, z\n",
    "client.moveToPositionAsync(5, 5, -3, 1).join()\n",
    "client.moveToPositionAsync(0, 5, -3, 1).join()\n",
    "client.moveToPositionAsync(0, 0, -3, 1).join()\n"
   ]
  },
  {
   "cell_type": "code",
   "execution_count": 13,
   "id": "774910d9-acc8-4a44-a8b0-366f37f62b05",
   "metadata": {},
   "outputs": [
    {
     "data": {
      "text/plain": [
       "<msgpackrpc.future.Future at 0x1e876abdab0>"
      ]
     },
     "execution_count": 13,
     "metadata": {},
     "output_type": "execute_result"
    }
   ],
   "source": [
    "# 方法2：直接按照航路点飞正方形轨迹\n",
    "client.moveOnPathAsync(points, 1)"
   ]
  },
  {
   "cell_type": "code",
   "execution_count": 14,
   "id": "ba19bd89-0696-49dc-875d-abc5bbc4bb06",
   "metadata": {},
   "outputs": [
    {
     "name": "stdout",
     "output_type": "stream",
     "text": [
      "降落----------------------------------------------\n"
     ]
    }
   ],
   "source": [
    "#降落\n",
    "client.landAsync().join()\n",
    "print(\"降落----------------------------------------------\")\n",
    "\n",
    "\n",
    "# lock\n",
    "client.armDisarm(False)\n",
    "\n",
    "# release control\n",
    "client.enableApiControl(False)"
   ]
  },
  {
   "cell_type": "markdown",
   "id": "13afedf6-baad-4de8-8db2-119f17af2a04",
   "metadata": {},
   "source": [
    "## 无人机的状态"
   ]
  },
  {
   "cell_type": "markdown",
   "id": "068e03c3-2ee7-4201-a1de-3b1af0d06330",
   "metadata": {},
   "source": [
    "在AirSim中，`simGetGroundTruthKinematics` 和 `simGetVehiclePose` 都是获取无人机状态的接口，但**返回数据的精度、用途和底层含义有本质区别**。以下是两者的详细对比：\n",
    "\n",
    "---\n",
    "\n",
    "### **1. `simGetVehiclePose()`**\n",
    "- **功能**：获取无人机的**位姿（Pose）**，即位置和姿态。\n",
    "- **返回数据**：\n",
    "  ```python\n",
    "  Pose(\n",
    "      position=Vector3r(x, y, z),  # 位置（NED坐标系，单位：米）\n",
    "      orientation=Quaternionr(w, x, y, z)  # 四元数姿态（相对世界坐标系）\n",
    "  )\n",
    "  ```\n",
    "- **特点**：\n",
    "  - 数据来源于仿真的**传感器模型**（如GPS、IMU），可能包含噪声。\n",
    "  - 模拟真实无人机传感器输出的结果，适合测试SLAM、导航等算法。\n",
    "  - 如果AirSim设置中启用了传感器噪声（默认关闭），返回的坐标会有扰动。\n",
    "\n",
    "---\n",
    "\n",
    "### **2. `simGetGroundTruthKinematics()`**\n",
    "- **功能**：获取无人机的**真实运动学状态**（Ground Truth）。\n",
    "- **返回数据**：\n",
    "  ```python\n",
    "  KinematicsState(\n",
    "      position=Vector3r(x, y, z),  # 位置（绝对精确，NED坐标系）\n",
    "      orientation=Quaternionr(w, x, y, z),  # 姿态（绝对精确）\n",
    "      linear_velocity=Vector3r(vx, vy, vz),  # 线速度（米/秒）\n",
    "      angular_velocity=Vector3r(wx, wy, wz),  # 角速度（弧度/秒）\n",
    "      linear_acceleration=Vector3r(ax, ay, az),  # 线加速度（米/秒²）\n",
    "      angular_acceleration=Vector3r(αx, αy, αz)  # 角加速度（弧度/秒²）\n",
    "  )\n",
    "  ```\n",
    "- **特点**：\n",
    "  - 数据来源于仿真的**物理引擎**，是绝对精确的“上帝视角”数据，无任何噪声。\n",
    "  - 适合用于**算法验证**（如对比传感器数据与真实值的误差）或**控制算法设计**（如直接获取速度反馈）。\n",
    "\n",
    "---\n",
    "\n",
    "### **3. 关键区别总结**\n",
    "| 特性                | `simGetVehiclePose()`              | `simGetGroundTruthKinematics()`    |\n",
    "|--------------------|-----------------------------------|-----------------------------------|\n",
    "| 数据来源             | 传感器模型（可能含噪声）            | 物理引擎（绝对精确）                |\n",
    "| 数据维度             | 仅位置和姿态                      | 位置、姿态、速度、加速度            |\n",
    "| 用途                | 模拟真实传感器输出                 | 算法验证、控制闭环设计              |\n",
    "| 计算开销            | 低（仅读取传感器数据）              | 高（需从物理引擎获取完整状态）       |\n",
    "\n",
    "---\n",
    "\n",
    "### **4. 使用场景建议**\n",
    "- **需要传感器级数据**（如测试SLAM、避障）：  \n",
    "  使用 `simGetVehiclePose()`，并启用传感器噪声（通过AirSim的[设置文件](https://microsoft.github.io/AirSim/settings/)配置）。\n",
    "\n",
    "- **需要真实状态验证**（如控制器调试、轨迹跟踪）：  \n",
    "  使用 `simGetGroundTruthKinematics().position` 或 `linear_velocity`。\n",
    "\n",
    "- **需要动力学参数**（如速度反馈、加速度前馈）：  \n",
    "  直接读取 `linear_velocity` 和 `linear_acceleration`。\n",
    "\n"
   ]
  },
  {
   "cell_type": "code",
   "execution_count": 16,
   "id": "84ab4b2b-ff89-4c9f-8fb0-84e484fcacfb",
   "metadata": {},
   "outputs": [
    {
     "name": "stdout",
     "output_type": "stream",
     "text": [
      "Connected!\n",
      "Client Ver:1 (Min Req: 1), Server Ver:1 (Min Req: 1)\n",
      "\n",
      "起飞--------------------------------\n"
     ]
    }
   ],
   "source": [
    "import time\n",
    "import airsim\n",
    "\n",
    "# connect to the AirSim simulator\n",
    "client = airsim.MultirotorClient()\n",
    "client.confirmConnection()\n",
    "\n",
    "# get control,允许api控制，默认是不允许的\n",
    "client.enableApiControl(True)\n",
    "\n",
    "# unlock，解锁，流程和真实飞行器一样\n",
    "client.armDisarm(True)\n",
    "\n",
    "\n",
    "# takeoff，起飞，很多无人机或者汽车控制的函数都有 Async/异步作为后缀，执行的时候会立即返回，不阻塞\n",
    "# 但命令本身还是顺序执行的，所以需要join等待命令执行完毕，上一个命令执行完成，才会执行下一个命令\n",
    "# 也可以不join，直接执行下一个命令，但是这样的话，就不知道上一个命令是否执行完成了，需要自己控制\n",
    "client.takeoffAsync().join()\n",
    "print(\"起飞--------------------------------\")\n"
   ]
  },
  {
   "cell_type": "code",
   "execution_count": 27,
   "id": "b76d3518-cb2d-47bf-883a-fb812030c257",
   "metadata": {},
   "outputs": [
    {
     "name": "stdout",
     "output_type": "stream",
     "text": [
      "position <Vector3r> {   'x_val': 0.0,\n",
      "    'y_val': 0.0,\n",
      "    'z_val': -2.6303207874298096} \n",
      "\n",
      " linear_velocity <Vector3r> {   'x_val': 0.0,\n",
      "    'y_val': 0.0,\n",
      "    'z_val': -3.4857908758567646e-05} \n",
      "\n",
      " linear_acceleration <Vector3r> {   'x_val': 0.0,\n",
      "    'y_val': 0.0,\n",
      "    'z_val': 0.0} \n",
      "\n",
      " orientation <Quaternionr> {   'w_val': 0.9999998807907104,\n",
      "    'x_val': 0.0,\n",
      "    'y_val': 0.0,\n",
      "    'z_val': 0.0} \n",
      "\n",
      " angular_velocity <Vector3r> {   'x_val': 0.0,\n",
      "    'y_val': 0.0,\n",
      "    'z_val': 0.0} \n",
      "\n",
      " angular_acceleration <Vector3r> {   'x_val': 0.0,\n",
      "    'y_val': 0.0,\n",
      "    'z_val': 0.0}\n",
      "x:  0.0 y:  0.0 z:  -2.6303207874298096\n",
      "-----------------------------------------------------------------------------------\n",
      "position <Vector3r> {   'x_val': 0.0,\n",
      "    'y_val': 0.0,\n",
      "    'z_val': -2.6303207874298096} \n",
      "\n",
      " linear_velocity <Vector3r> {   'x_val': 0.0,\n",
      "    'y_val': 0.0,\n",
      "    'z_val': -3.4857908758567646e-05} \n",
      "\n",
      " linear_acceleration <Vector3r> {   'x_val': 0.0,\n",
      "    'y_val': 0.0,\n",
      "    'z_val': 0.0} \n",
      "\n",
      " orientation <Quaternionr> {   'w_val': 0.9999998807907104,\n",
      "    'x_val': 0.0,\n",
      "    'y_val': 0.0,\n",
      "    'z_val': 0.0} \n",
      "\n",
      " angular_velocity <Vector3r> {   'x_val': 0.0,\n",
      "    'y_val': 0.0,\n",
      "    'z_val': 0.0} \n",
      "\n",
      " angular_acceleration <Vector3r> {   'x_val': 0.0,\n",
      "    'y_val': 0.0,\n",
      "    'z_val': 0.0}\n",
      "x:  0.0 y:  0.0 z:  -2.6303207874298096\n",
      "-----------------------------------------------------------------------------------\n"
     ]
    }
   ],
   "source": [
    "#moveToZAsync，坐标系是NED，所以正数是向上，负数是向下\n",
    "client.moveToZAsync(-3, 1).join()   # 上升到3米高度，1是速度\n",
    "\n",
    "for i in range(2):\n",
    "    kinematic_state_groundtruth = client.simGetGroundTruthKinematics(vehicle_name='')\n",
    "    #print(\"kinematic_state_groundtruth: \", kinematic_state_groundtruth)\n",
    "\n",
    "    # state_groundtruth 的6个属性\n",
    "    print(\n",
    "    \"position\", kinematic_state_groundtruth.position,  # 位置信息\n",
    "    \"\\n\\n linear_velocity\", kinematic_state_groundtruth.linear_velocity,  # 速度信息\n",
    "    \"\\n\\n linear_acceleration\", kinematic_state_groundtruth.linear_acceleration , # 加速度信息\n",
    "    \"\\n\\n orientation\", kinematic_state_groundtruth.orientation,  # 姿态信息\n",
    "    \"\\n\\n angular_velocity\", kinematic_state_groundtruth.angular_velocity,  # 姿态角速率信息\n",
    "    \"\\n\\n angular_acceleration\", kinematic_state_groundtruth.angular_acceleration,  # 姿态角加速度信息\n",
    "    )\n",
    "\n",
    "    # 无人机全局位置坐标真值\n",
    "    x = kinematic_state_groundtruth.position.x_val  # 全局坐标系下，x轴方向的坐标\n",
    "    y = kinematic_state_groundtruth.position.y_val  # 全局坐标系下，y轴方向的坐标\n",
    "    z = kinematic_state_groundtruth.position.z_val  # 全局坐标系下，z轴方向的坐标\n",
    "    print(\"x: \", x, \"y: \", y, \"z: \", z)\n",
    "\n",
    "    time.sleep(1)\n",
    "    print(\"-----------------------------------------------------------------------------------\")"
   ]
  },
  {
   "cell_type": "code",
   "execution_count": 30,
   "id": "8c2d1604-0602-4b29-84d1-0166961bbd72",
   "metadata": {},
   "outputs": [
    {
     "name": "stdout",
     "output_type": "stream",
     "text": [
      "<Pose> {   'orientation': <Quaternionr> {   'w_val': 1.0,\n",
      "    'x_val': -0.0,\n",
      "    'y_val': 0.0,\n",
      "    'z_val': 0.0},\n",
      "    'position': <Vector3r> {   'x_val': 0.0,\n",
      "    'y_val': 0.0,\n",
      "    'z_val': -2.630319356918335}}\n",
      "0.0 0.0 -2.630319356918335\n",
      "<Quaternionr> {   'w_val': 1.0,\n",
      "    'x_val': -0.0,\n",
      "    'y_val': 0.0,\n",
      "    'z_val': 0.0}\n",
      "(0.0, 0.0, 0.0)\n"
     ]
    }
   ],
   "source": [
    "pose = client.simGetVehiclePose()\n",
    "print(pose)\n",
    "print(pose.position.x_val, pose.position.y_val, pose.position.z_val)\n",
    "print(pose.orientation)\n",
    "print(airsim.to_eularian_angles(pose.orientation))"
   ]
  },
  {
   "cell_type": "code",
   "execution_count": 31,
   "id": "dd1eebb1-66c9-4c8c-bd45-127b9e92d483",
   "metadata": {},
   "outputs": [
    {
     "name": "stdout",
     "output_type": "stream",
     "text": [
      "降落----------------------------------------------\n"
     ]
    }
   ],
   "source": [
    "#降落\n",
    "client.landAsync().join()\n",
    "print(\"降落----------------------------------------------\")\n",
    "\n",
    "\n",
    "\n",
    "# lock\n",
    "client.armDisarm(False)\n",
    "\n",
    "# release control\n",
    "client.enableApiControl(False)"
   ]
  },
  {
   "cell_type": "code",
   "execution_count": null,
   "id": "dcca3ab5-15c6-423c-8482-a93eac9497db",
   "metadata": {},
   "outputs": [],
   "source": []
  }
 ],
 "metadata": {
  "kernelspec": {
   "display_name": "Python 3 (ipykernel)",
   "language": "python",
   "name": "python3"
  },
  "language_info": {
   "codemirror_mode": {
    "name": "ipython",
    "version": 3
   },
   "file_extension": ".py",
   "mimetype": "text/x-python",
   "name": "python",
   "nbconvert_exporter": "python",
   "pygments_lexer": "ipython3",
   "version": "3.10.16"
  }
 },
 "nbformat": 4,
 "nbformat_minor": 5
}
