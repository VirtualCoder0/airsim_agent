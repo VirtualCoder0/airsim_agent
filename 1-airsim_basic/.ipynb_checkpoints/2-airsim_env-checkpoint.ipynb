{
 "cells": [
  {
   "cell_type": "markdown",
   "id": "31cb4159-6e95-4d7d-9a94-bfb0ca81f9d6",
   "metadata": {},
   "source": [
    "# 1.2 AirSim仿真系统搭建"
   ]
  },
  {
   "cell_type": "markdown",
   "id": "7a71a127-b1ef-4fcb-a2cc-bc3217a3cd75",
   "metadata": {},
   "source": [
    "## airsim简介\n"
   ]
  }
 ],
 "metadata": {
  "kernelspec": {
   "display_name": "Python 3 (ipykernel)",
   "language": "python",
   "name": "python3"
  },
  "language_info": {
   "codemirror_mode": {
    "name": "ipython",
    "version": 3
   },
   "file_extension": ".py",
   "mimetype": "text/x-python",
   "name": "python",
   "nbconvert_exporter": "python",
   "pygments_lexer": "ipython3",
   "version": "3.10.16"
  }
 },
 "nbformat": 4,
 "nbformat_minor": 5
}
