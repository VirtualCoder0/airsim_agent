{
 "cells": [
  {
   "cell_type": "code",
   "execution_count": 1,
   "metadata": {
    "collapsed": true,
    "ExecuteTime": {
     "end_time": "2023-12-01T15:17:22.126202Z",
     "start_time": "2023-12-01T15:17:06.848748Z"
    }
   },
   "outputs": [
    {
     "ename": "TypeError",
     "evalue": "__init__() got an unexpected keyword argument 'encoding'",
     "output_type": "error",
     "traceback": [
      "\u001B[1;31m---------------------------------------------------------------------------\u001B[0m",
      "\u001B[1;31mTypeError\u001B[0m                                 Traceback (most recent call last)",
      "Cell \u001B[1;32mIn[1], line 1\u001B[0m\n\u001B[1;32m----> 1\u001B[0m \u001B[38;5;28;01mfrom\u001B[39;00m \u001B[38;5;21;01mernie_airsim_run\u001B[39;00m \u001B[38;5;28;01mimport\u001B[39;00m \u001B[38;5;241m*\u001B[39m\n\u001B[0;32m      2\u001B[0m ernie_airsim \u001B[38;5;241m=\u001B[39m ernie_airsim\u001B[38;5;241m.\u001B[39mErnieAirSim()\n",
      "File \u001B[1;32mF:\\sc2\\smac\\ernie_airsim_git\\ernie_airsim_git\\ernie_airsim_run.py:17\u001B[0m\n\u001B[0;32m     15\u001B[0m erniebot\u001B[38;5;241m.\u001B[39maccess_token \u001B[38;5;241m=\u001B[39m \u001B[38;5;124m\"\u001B[39m\u001B[38;5;124m85e4da127a707245f3d26ec617cc4d982bcc5a6c\u001B[39m\u001B[38;5;124m\"\u001B[39m \u001B[38;5;66;03m# \"your access token\u001B[39;00m\n\u001B[0;32m     16\u001B[0m MY_MODEL \u001B[38;5;241m=\u001B[39m \u001B[38;5;124m\"\u001B[39m\u001B[38;5;124mernie-4.0\u001B[39m\u001B[38;5;124m\"\u001B[39m \u001B[38;5;66;03m#ernie-bot\",ernie-bot-turbo,ernie-bot-4,ernie-bot-8k,ernie-text-embedding,ernie-vilg-v2\u001B[39;00m\n\u001B[1;32m---> 17\u001B[0m aw \u001B[38;5;241m=\u001B[39m \u001B[43mAirSimWrapper\u001B[49m\u001B[43m(\u001B[49m\u001B[43m)\u001B[49m \u001B[38;5;66;03m#初始化airsim，airsim基本功能调用\u001B[39;00m\n\u001B[0;32m     20\u001B[0m \u001B[38;5;28;01mclass\u001B[39;00m \u001B[38;5;21;01mErnieAirSim\u001B[39;00m:\n\u001B[0;32m     21\u001B[0m     \u001B[38;5;28;01mdef\u001B[39;00m \u001B[38;5;21m__init__\u001B[39m(\u001B[38;5;28mself\u001B[39m, system_prompts\u001B[38;5;241m=\u001B[39m\u001B[38;5;124m\"\u001B[39m\u001B[38;5;124msystem_prompts/airsim_basic_cn.txt\u001B[39m\u001B[38;5;124m\"\u001B[39m, prompt\u001B[38;5;241m=\u001B[39m\u001B[38;5;124m\"\u001B[39m\u001B[38;5;124mprompts/airsim_basic_cn.txt\u001B[39m\u001B[38;5;124m\"\u001B[39m, chat_history\u001B[38;5;241m=\u001B[39m[]):\n\u001B[0;32m     22\u001B[0m         \u001B[38;5;66;03m# 系统提示\u001B[39;00m\n",
      "File \u001B[1;32mF:\\sc2\\smac\\ernie_airsim_git\\ernie_airsim_git\\airsim_wrapper.py:22\u001B[0m, in \u001B[0;36mAirSimWrapper.__init__\u001B[1;34m(self)\u001B[0m\n\u001B[0;32m     20\u001B[0m \u001B[38;5;28;01mdef\u001B[39;00m \u001B[38;5;21m__init__\u001B[39m(\u001B[38;5;28mself\u001B[39m):\n\u001B[0;32m     21\u001B[0m     \u001B[38;5;28mself\u001B[39m\u001B[38;5;241m.\u001B[39mclient \u001B[38;5;241m=\u001B[39m airsim\u001B[38;5;241m.\u001B[39mMultirotorClient()\u001B[38;5;66;03m#run in some machine of airsim,otherwise,set ip=\"\" of airsim\u001B[39;00m\n\u001B[1;32m---> 22\u001B[0m     \u001B[38;5;28;43mself\u001B[39;49m\u001B[38;5;241;43m.\u001B[39;49m\u001B[43mclient\u001B[49m\u001B[38;5;241;43m.\u001B[39;49m\u001B[43mconfirmConnection\u001B[49m\u001B[43m(\u001B[49m\u001B[43m)\u001B[49m\n\u001B[0;32m     23\u001B[0m     \u001B[38;5;28mself\u001B[39m\u001B[38;5;241m.\u001B[39mclient\u001B[38;5;241m.\u001B[39menableApiControl(\u001B[38;5;28;01mTrue\u001B[39;00m)\n\u001B[0;32m     24\u001B[0m     \u001B[38;5;28mself\u001B[39m\u001B[38;5;241m.\u001B[39mclient\u001B[38;5;241m.\u001B[39marmDisarm(\u001B[38;5;28;01mTrue\u001B[39;00m)\n",
      "File \u001B[1;32mF:\\sc2\\smac\\ernie_airsim_git\\ernie_airsim_git\\./external-libraries\\airsim\\client.py:139\u001B[0m, in \u001B[0;36mVehicleClient.confirmConnection\u001B[1;34m(self)\u001B[0m\n\u001B[0;32m    135\u001B[0m \u001B[38;5;28;01mdef\u001B[39;00m \u001B[38;5;21mconfirmConnection\u001B[39m(\u001B[38;5;28mself\u001B[39m):\n\u001B[0;32m    136\u001B[0m \u001B[38;5;250m    \u001B[39m\u001B[38;5;124;03m\"\"\"\u001B[39;00m\n\u001B[0;32m    137\u001B[0m \u001B[38;5;124;03m    Checks state of connection every 1 sec and reports it in Console so user can see the progress for connection.\u001B[39;00m\n\u001B[0;32m    138\u001B[0m \u001B[38;5;124;03m    \"\"\"\u001B[39;00m\n\u001B[1;32m--> 139\u001B[0m     \u001B[38;5;28;01mif\u001B[39;00m \u001B[38;5;28;43mself\u001B[39;49m\u001B[38;5;241;43m.\u001B[39;49m\u001B[43mping\u001B[49m\u001B[43m(\u001B[49m\u001B[43m)\u001B[49m:\n\u001B[0;32m    140\u001B[0m         \u001B[38;5;28mprint\u001B[39m(\u001B[38;5;124m\"\u001B[39m\u001B[38;5;124mConnected!\u001B[39m\u001B[38;5;124m\"\u001B[39m)\n\u001B[0;32m    141\u001B[0m     \u001B[38;5;28;01melse\u001B[39;00m:\n",
      "File \u001B[1;32mF:\\sc2\\smac\\ernie_airsim_git\\ernie_airsim_git\\./external-libraries\\airsim\\client.py:35\u001B[0m, in \u001B[0;36mVehicleClient.ping\u001B[1;34m(self)\u001B[0m\n\u001B[0;32m     28\u001B[0m \u001B[38;5;28;01mdef\u001B[39;00m \u001B[38;5;21mping\u001B[39m(\u001B[38;5;28mself\u001B[39m):\n\u001B[0;32m     29\u001B[0m \u001B[38;5;250m    \u001B[39m\u001B[38;5;124;03m\"\"\"\u001B[39;00m\n\u001B[0;32m     30\u001B[0m \u001B[38;5;124;03m    If connection is established then this call will return true otherwise it will be blocked until timeout\u001B[39;00m\n\u001B[0;32m     31\u001B[0m \n\u001B[0;32m     32\u001B[0m \u001B[38;5;124;03m    Returns:\u001B[39;00m\n\u001B[0;32m     33\u001B[0m \u001B[38;5;124;03m        bool:\u001B[39;00m\n\u001B[0;32m     34\u001B[0m \u001B[38;5;124;03m    \"\"\"\u001B[39;00m\n\u001B[1;32m---> 35\u001B[0m     \u001B[38;5;28;01mreturn\u001B[39;00m \u001B[38;5;28;43mself\u001B[39;49m\u001B[38;5;241;43m.\u001B[39;49m\u001B[43mclient\u001B[49m\u001B[38;5;241;43m.\u001B[39;49m\u001B[43mcall\u001B[49m\u001B[43m(\u001B[49m\u001B[38;5;124;43m'\u001B[39;49m\u001B[38;5;124;43mping\u001B[39;49m\u001B[38;5;124;43m'\u001B[39;49m\u001B[43m)\u001B[49m\n",
      "File \u001B[1;32mF:\\sc2\\smac\\ernie_airsim_git\\ernie_airsim_git\\./external-libraries\\msgpackrpc\\session.py:41\u001B[0m, in \u001B[0;36mSession.call\u001B[1;34m(self, method, *args)\u001B[0m\n\u001B[0;32m     40\u001B[0m \u001B[38;5;28;01mdef\u001B[39;00m \u001B[38;5;21mcall\u001B[39m(\u001B[38;5;28mself\u001B[39m, method, \u001B[38;5;241m*\u001B[39margs):\n\u001B[1;32m---> 41\u001B[0m     \u001B[38;5;28;01mreturn\u001B[39;00m \u001B[38;5;28;43mself\u001B[39;49m\u001B[38;5;241;43m.\u001B[39;49m\u001B[43msend_request\u001B[49m\u001B[43m(\u001B[49m\u001B[43mmethod\u001B[49m\u001B[43m,\u001B[49m\u001B[43m \u001B[49m\u001B[43margs\u001B[49m\u001B[43m)\u001B[49m\u001B[38;5;241m.\u001B[39mget()\n",
      "File \u001B[1;32mF:\\sc2\\smac\\ernie_airsim_git\\ernie_airsim_git\\./external-libraries\\msgpackrpc\\session.py:51\u001B[0m, in \u001B[0;36mSession.send_request\u001B[1;34m(self, method, args)\u001B[0m\n\u001B[0;32m     49\u001B[0m future \u001B[38;5;241m=\u001B[39m Future(\u001B[38;5;28mself\u001B[39m\u001B[38;5;241m.\u001B[39m_loop, \u001B[38;5;28mself\u001B[39m\u001B[38;5;241m.\u001B[39m_timeout)\n\u001B[0;32m     50\u001B[0m \u001B[38;5;28mself\u001B[39m\u001B[38;5;241m.\u001B[39m_request_table[msgid] \u001B[38;5;241m=\u001B[39m future\n\u001B[1;32m---> 51\u001B[0m \u001B[38;5;28;43mself\u001B[39;49m\u001B[38;5;241;43m.\u001B[39;49m\u001B[43m_transport\u001B[49m\u001B[38;5;241;43m.\u001B[39;49m\u001B[43msend_message\u001B[49m\u001B[43m(\u001B[49m\u001B[43m[\u001B[49m\u001B[43mmessage\u001B[49m\u001B[38;5;241;43m.\u001B[39;49m\u001B[43mREQUEST\u001B[49m\u001B[43m,\u001B[49m\u001B[43m \u001B[49m\u001B[43mmsgid\u001B[49m\u001B[43m,\u001B[49m\u001B[43m \u001B[49m\u001B[43mmethod\u001B[49m\u001B[43m,\u001B[49m\u001B[43m \u001B[49m\u001B[43margs\u001B[49m\u001B[43m]\u001B[49m\u001B[43m)\u001B[49m\n\u001B[0;32m     52\u001B[0m \u001B[38;5;28;01mreturn\u001B[39;00m future\n",
      "File \u001B[1;32mF:\\sc2\\smac\\ernie_airsim_git\\ernie_airsim_git\\./external-libraries\\msgpackrpc\\transport\\tcp.py:89\u001B[0m, in \u001B[0;36mClientTransport.send_message\u001B[1;34m(self, message, callback)\u001B[0m\n\u001B[0;32m     87\u001B[0m \u001B[38;5;28;01mif\u001B[39;00m \u001B[38;5;28mlen\u001B[39m(\u001B[38;5;28mself\u001B[39m\u001B[38;5;241m.\u001B[39m_sockets) \u001B[38;5;241m==\u001B[39m \u001B[38;5;241m0\u001B[39m:\n\u001B[0;32m     88\u001B[0m     \u001B[38;5;28;01mif\u001B[39;00m \u001B[38;5;28mself\u001B[39m\u001B[38;5;241m.\u001B[39m_connecting \u001B[38;5;241m==\u001B[39m \u001B[38;5;241m0\u001B[39m:\n\u001B[1;32m---> 89\u001B[0m         \u001B[38;5;28;43mself\u001B[39;49m\u001B[38;5;241;43m.\u001B[39;49m\u001B[43mconnect\u001B[49m\u001B[43m(\u001B[49m\u001B[43m)\u001B[49m\n\u001B[0;32m     90\u001B[0m         \u001B[38;5;28mself\u001B[39m\u001B[38;5;241m.\u001B[39m_connecting \u001B[38;5;241m=\u001B[39m \u001B[38;5;241m1\u001B[39m\n\u001B[0;32m     91\u001B[0m     \u001B[38;5;28mself\u001B[39m\u001B[38;5;241m.\u001B[39m_pending\u001B[38;5;241m.\u001B[39mappend((message, callback))\n",
      "File \u001B[1;32mF:\\sc2\\smac\\ernie_airsim_git\\ernie_airsim_git\\./external-libraries\\msgpackrpc\\transport\\tcp.py:98\u001B[0m, in \u001B[0;36mClientTransport.connect\u001B[1;34m(self)\u001B[0m\n\u001B[0;32m     96\u001B[0m \u001B[38;5;28;01mdef\u001B[39;00m \u001B[38;5;21mconnect\u001B[39m(\u001B[38;5;28mself\u001B[39m):\n\u001B[0;32m     97\u001B[0m     stream \u001B[38;5;241m=\u001B[39m IOStream(\u001B[38;5;28mself\u001B[39m\u001B[38;5;241m.\u001B[39m_address\u001B[38;5;241m.\u001B[39msocket(), io_loop\u001B[38;5;241m=\u001B[39m\u001B[38;5;28mself\u001B[39m\u001B[38;5;241m.\u001B[39m_session\u001B[38;5;241m.\u001B[39m_loop\u001B[38;5;241m.\u001B[39m_ioloop)\n\u001B[1;32m---> 98\u001B[0m     socket \u001B[38;5;241m=\u001B[39m \u001B[43mClientSocket\u001B[49m\u001B[43m(\u001B[49m\u001B[43mstream\u001B[49m\u001B[43m,\u001B[49m\u001B[43m \u001B[49m\u001B[38;5;28;43mself\u001B[39;49m\u001B[43m,\u001B[49m\u001B[43m \u001B[49m\u001B[38;5;28;43mself\u001B[39;49m\u001B[38;5;241;43m.\u001B[39;49m\u001B[43m_encodings\u001B[49m\u001B[43m)\u001B[49m\n\u001B[0;32m     99\u001B[0m     socket\u001B[38;5;241m.\u001B[39mconnect()\n",
      "File \u001B[1;32mF:\\sc2\\smac\\ernie_airsim_git\\ernie_airsim_git\\./external-libraries\\msgpackrpc\\transport\\tcp.py:53\u001B[0m, in \u001B[0;36mClientSocket.__init__\u001B[1;34m(self, stream, transport, encodings)\u001B[0m\n\u001B[0;32m     52\u001B[0m \u001B[38;5;28;01mdef\u001B[39;00m \u001B[38;5;21m__init__\u001B[39m(\u001B[38;5;28mself\u001B[39m, stream, transport, encodings):\n\u001B[1;32m---> 53\u001B[0m     \u001B[43mBaseSocket\u001B[49m\u001B[38;5;241;43m.\u001B[39;49m\u001B[38;5;21;43m__init__\u001B[39;49m\u001B[43m(\u001B[49m\u001B[38;5;28;43mself\u001B[39;49m\u001B[43m,\u001B[49m\u001B[43m \u001B[49m\u001B[43mstream\u001B[49m\u001B[43m,\u001B[49m\u001B[43m \u001B[49m\u001B[43mencodings\u001B[49m\u001B[43m)\u001B[49m\n\u001B[0;32m     54\u001B[0m     \u001B[38;5;28mself\u001B[39m\u001B[38;5;241m.\u001B[39m_transport \u001B[38;5;241m=\u001B[39m transport\n\u001B[0;32m     55\u001B[0m     \u001B[38;5;28mself\u001B[39m\u001B[38;5;241m.\u001B[39m_stream\u001B[38;5;241m.\u001B[39mset_close_callback(\u001B[38;5;28mself\u001B[39m\u001B[38;5;241m.\u001B[39mon_close)\n",
      "File \u001B[1;32mF:\\sc2\\smac\\ernie_airsim_git\\ernie_airsim_git\\./external-libraries\\msgpackrpc\\transport\\tcp.py:12\u001B[0m, in \u001B[0;36mBaseSocket.__init__\u001B[1;34m(self, stream, encodings)\u001B[0m\n\u001B[0;32m     10\u001B[0m \u001B[38;5;28;01mdef\u001B[39;00m \u001B[38;5;21m__init__\u001B[39m(\u001B[38;5;28mself\u001B[39m, stream, encodings):\n\u001B[0;32m     11\u001B[0m     \u001B[38;5;28mself\u001B[39m\u001B[38;5;241m.\u001B[39m_stream \u001B[38;5;241m=\u001B[39m stream\n\u001B[1;32m---> 12\u001B[0m     \u001B[38;5;28mself\u001B[39m\u001B[38;5;241m.\u001B[39m_packer \u001B[38;5;241m=\u001B[39m \u001B[43mmsgpack\u001B[49m\u001B[38;5;241;43m.\u001B[39;49m\u001B[43mPacker\u001B[49m\u001B[43m(\u001B[49m\u001B[43mencoding\u001B[49m\u001B[38;5;241;43m=\u001B[39;49m\u001B[43mencodings\u001B[49m\u001B[43m[\u001B[49m\u001B[38;5;241;43m0\u001B[39;49m\u001B[43m]\u001B[49m\u001B[43m,\u001B[49m\u001B[43m \u001B[49m\u001B[43mdefault\u001B[49m\u001B[38;5;241;43m=\u001B[39;49m\u001B[38;5;28;43;01mlambda\u001B[39;49;00m\u001B[43m \u001B[49m\u001B[43mx\u001B[49m\u001B[43m:\u001B[49m\u001B[43m \u001B[49m\u001B[43mx\u001B[49m\u001B[38;5;241;43m.\u001B[39;49m\u001B[43mto_msgpack\u001B[49m\u001B[43m(\u001B[49m\u001B[43m)\u001B[49m\u001B[43m)\u001B[49m\n\u001B[0;32m     13\u001B[0m     \u001B[38;5;28mself\u001B[39m\u001B[38;5;241m.\u001B[39m_unpacker \u001B[38;5;241m=\u001B[39m msgpack\u001B[38;5;241m.\u001B[39mUnpacker(encoding\u001B[38;5;241m=\u001B[39mencodings[\u001B[38;5;241m1\u001B[39m])\n",
      "File \u001B[1;32mmsgpack\\\\_packer.pyx:124\u001B[0m, in \u001B[0;36mmsgpack._cmsgpack.Packer.__init__\u001B[1;34m()\u001B[0m\n",
      "\u001B[1;31mTypeError\u001B[0m: __init__() got an unexpected keyword argument 'encoding'"
     ]
    }
   ],
   "source": [
    "from ernie_airsim_run import *\n",
    "ernie_airsim = ernie_airsim.ErnieAirSim()"
   ]
  },
  {
   "cell_type": "code",
   "execution_count": 2,
   "outputs": [
    {
     "ename": "NameError",
     "evalue": "name 'ernie_airsim' is not defined",
     "output_type": "error",
     "traceback": [
      "\u001B[1;31m---------------------------------------------------------------------------\u001B[0m",
      "\u001B[1;31mNameError\u001B[0m                                 Traceback (most recent call last)",
      "Cell \u001B[1;32mIn[2], line 2\u001B[0m\n\u001B[0;32m      1\u001B[0m command \u001B[38;5;241m=\u001B[39m \u001B[38;5;124m\"\u001B[39m\u001B[38;5;124m起飞\u001B[39m\u001B[38;5;124m\"\u001B[39m\n\u001B[1;32m----> 2\u001B[0m python_code \u001B[38;5;241m=\u001B[39m \u001B[43mernie_airsim\u001B[49m\u001B[38;5;241m.\u001B[39mprocess(command)\n\u001B[0;32m      3\u001B[0m \u001B[38;5;28mprint\u001B[39m(\u001B[38;5;124m\"\u001B[39m\u001B[38;5;124mpython_code:\u001B[39m\u001B[38;5;124m\"\u001B[39m, python_code)\n",
      "\u001B[1;31mNameError\u001B[0m: name 'ernie_airsim' is not defined"
     ]
    }
   ],
   "source": [
    "command = \"起飞\"\n",
    "python_code = ernie_airsim.process(command)\n",
    "print(\"python_code:\", python_code)"
   ],
   "metadata": {
    "collapsed": false,
    "ExecuteTime": {
     "end_time": "2023-12-01T15:17:27.989639Z",
     "start_time": "2023-12-01T15:17:24.241539Z"
    }
   }
  },
  {
   "cell_type": "code",
   "execution_count": 6,
   "outputs": [
    {
     "name": "stdout",
     "output_type": "stream",
     "text": [
      "python_code: car_position = aw.get_position(\"car\")\n",
      "aw.fly_to([car_position[0], car_position[1], car_position[2]+10])\n",
      "\n"
     ]
    }
   ],
   "source": [
    "command = \"飞到汽车上方\"\n",
    "python_code = ernie_airsim.process(command)\n",
    "print(\"python_code:\", python_code)"
   ],
   "metadata": {
    "collapsed": false,
    "ExecuteTime": {
     "end_time": "2023-12-01T15:17:43.963141Z",
     "start_time": "2023-12-01T15:17:34.143109Z"
    }
   }
  },
  {
   "cell_type": "code",
   "execution_count": 7,
   "outputs": [
    {
     "name": "stdout",
     "output_type": "stream",
     "text": [
      "python_code: car_position = aw.get_position(\"car\")\n",
      "aw.fly_to([car_position[0], car_position[1], car_position[2]-10])\n",
      "\n"
     ]
    }
   ],
   "source": [
    "command = \"汽车上方应该是Z轴减去一个正数\"\n",
    "python_code = ernie_airsim.process(command)\n",
    "print(\"python_code:\", python_code)"
   ],
   "metadata": {
    "collapsed": false,
    "ExecuteTime": {
     "end_time": "2023-12-01T15:18:20.062393Z",
     "start_time": "2023-12-01T15:18:11.894701Z"
    }
   }
  },
  {
   "cell_type": "code",
   "execution_count": null,
   "outputs": [],
   "source": [],
   "metadata": {
    "collapsed": false
   }
  }
 ],
 "metadata": {
  "kernelspec": {
   "display_name": "Python 3",
   "language": "python",
   "name": "python3"
  },
  "language_info": {
   "codemirror_mode": {
    "name": "ipython",
    "version": 2
   },
   "file_extension": ".py",
   "mimetype": "text/x-python",
   "name": "python",
   "nbconvert_exporter": "python",
   "pygments_lexer": "ipython2",
   "version": "2.7.6"
  }
 },
 "nbformat": 4,
 "nbformat_minor": 0
}
