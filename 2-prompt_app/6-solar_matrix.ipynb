{
 "cells": [
  {
   "cell_type": "markdown",
   "id": "f6c99ba6-a047-4105-a22b-9e0885ad2b57",
   "metadata": {},
   "source": [
    "# 2.6 完整任务-检测太阳能发电矩阵"
   ]
  },
  {
   "cell_type": "code",
   "execution_count": null,
   "id": "fbacd4fc-3a38-4f00-ad4c-3e2d21600888",
   "metadata": {},
   "outputs": [],
   "source": []
  }
 ],
 "metadata": {
  "kernelspec": {
   "display_name": "Python 3 (ipykernel)",
   "language": "python",
   "name": "python3"
  },
  "language_info": {
   "codemirror_mode": {
    "name": "ipython",
    "version": 3
   },
   "file_extension": ".py",
   "mimetype": "text/x-python",
   "name": "python",
   "nbconvert_exporter": "python",
   "pygments_lexer": "ipython3",
   "version": "3.10.16"
  }
 },
 "nbformat": 4,
 "nbformat_minor": 5
}
