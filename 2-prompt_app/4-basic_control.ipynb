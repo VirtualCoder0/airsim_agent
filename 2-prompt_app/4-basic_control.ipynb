{
 "cells": [
  {
   "cell_type": "markdown",
   "id": "52a68514-d295-49e3-ab03-d01f357bf23b",
   "metadata": {},
   "source": [
    "# 2.4 基本飞行控制-飞到汽车上"
   ]
  },
  {
   "cell_type": "code",
   "execution_count": null,
   "id": "01c2cb60-5f07-4d04-88d2-dc5cca035559",
   "metadata": {},
   "outputs": [],
   "source": []
  }
 ],
 "metadata": {
  "kernelspec": {
   "display_name": "Python 3 (ipykernel)",
   "language": "python",
   "name": "python3"
  },
  "language_info": {
   "codemirror_mode": {
    "name": "ipython",
    "version": 3
   },
   "file_extension": ".py",
   "mimetype": "text/x-python",
   "name": "python",
   "nbconvert_exporter": "python",
   "pygments_lexer": "ipython3",
   "version": "3.10.16"
  }
 },
 "nbformat": 4,
 "nbformat_minor": 5
}
